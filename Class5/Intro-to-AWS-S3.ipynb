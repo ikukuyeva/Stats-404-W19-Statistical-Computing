{
 "cells": [
  {
   "cell_type": "markdown",
   "metadata": {
    "slideshow": {
     "slide_type": "slide"
    }
   },
   "source": [
    "# Introduction to AWS Simple Cloud Storage Service (S3)\n",
    "Prerequisites:\n",
    "- Installation of `boto3`\n",
    "- Creating and adding AWS credentials to `.aws/credentials` file\n",
    "- Creating and adding AWS region for computing resources in `.aws/config` file\n",
    "\n",
    "Reference for `s3fs` [here](https://s3fs.readthedocs.io/en/latest/?badge=latest); note:`s3fs` is a wrapper for `boto3`."
   ]
  },
  {
   "cell_type": "code",
   "execution_count": 1,
   "metadata": {},
   "outputs": [],
   "source": [
    "import boto3\n",
    "import joblib\n",
    "import pandas as pd\n",
    "import s3fs "
   ]
  },
  {
   "cell_type": "code",
   "execution_count": 2,
   "metadata": {},
   "outputs": [],
   "source": [
    "# Specify name of AWS S3 bucket you created:\n",
    "bucket_name = \"stats404-project\""
   ]
  },
  {
   "cell_type": "markdown",
   "metadata": {
    "slideshow": {
     "slide_type": "slide"
    }
   },
   "source": [
    "## Connect to S3 Bucket on AWS"
   ]
  },
  {
   "cell_type": "code",
   "execution_count": 3,
   "metadata": {},
   "outputs": [],
   "source": [
    "# Approach 1: \n",
    "s3 = boto3.resource('s3')\n",
    "\n",
    "# Approach 2:\n",
    "# - anon=False: use AWS credentials to connect to file system, not as an anonymous user\n",
    "s3_fs = s3fs.S3FileSystem(anon=False)"
   ]
  },
  {
   "cell_type": "markdown",
   "metadata": {
    "slideshow": {
     "slide_type": "subslide"
    }
   },
   "source": [
    "View list of all buckets available on AWS via `s3.buckets.all()`. \n",
    "\n",
    "My bucket for the project:"
   ]
  },
  {
   "cell_type": "code",
   "execution_count": 4,
   "metadata": {},
   "outputs": [
    {
     "name": "stdout",
     "output_type": "stream",
     "text": [
      "stats404-project\n"
     ]
    }
   ],
   "source": [
    "for bucket in s3.buckets.all():\n",
    "    if bucket.name == bucket_name:\n",
    "        print(bucket.name)"
   ]
  },
  {
   "cell_type": "markdown",
   "metadata": {
    "slideshow": {
     "slide_type": "subslide"
    }
   },
   "source": [
    "View list of objects in given bucket:"
   ]
  },
  {
   "cell_type": "code",
   "execution_count": 5,
   "metadata": {},
   "outputs": [],
   "source": [
    "for file in s3.Bucket(bucket_name).objects.all():\n",
    "    print(file.key)"
   ]
  },
  {
   "cell_type": "markdown",
   "metadata": {
    "slideshow": {
     "slide_type": "slide"
    }
   },
   "source": [
    "## Upload CSV File to S3 Bucket"
   ]
  },
  {
   "cell_type": "code",
   "execution_count": 6,
   "metadata": {},
   "outputs": [],
   "source": [
    "# --- Step 1: Create a data set to upload -- or use one for your project:\n",
    "file_name = \"http://s3.amazonaws.com/h2o-airlines-unpacked/year2012.csv\"\n",
    "df = pd.read_csv(filepath_or_buffer=file_name,\n",
    "                 encoding='latin-1',\n",
    "                 nrows=1000)"
   ]
  },
  {
   "cell_type": "code",
   "execution_count": 7,
   "metadata": {
    "slideshow": {
     "slide_type": "subslide"
    }
   },
   "outputs": [],
   "source": [
    "# --- Step 2: Specify name of file to be created on s3, to store this CSV:\n",
    "key_name = \"airlines_data_2012_1000rows.csv\""
   ]
  },
  {
   "cell_type": "code",
   "execution_count": 8,
   "metadata": {},
   "outputs": [],
   "source": [
    "# --- Step 3: Upload file to bucket and file name specified: \n",
    "with s3_fs.open(f\"{bucket_name}/{key_name}\",\"w\") as file:\n",
    "    df.to_csv(file)"
   ]
  },
  {
   "cell_type": "code",
   "execution_count": 9,
   "metadata": {},
   "outputs": [
    {
     "name": "stdout",
     "output_type": "stream",
     "text": [
      "airlines_data_2012_1000rows.csv\n"
     ]
    }
   ],
   "source": [
    "# --- Step 4: Check that file got uploaded:\n",
    "for file in s3.Bucket(bucket_name).objects.all():\n",
    "    print(file.key)"
   ]
  },
  {
   "cell_type": "markdown",
   "metadata": {
    "slideshow": {
     "slide_type": "slide"
    }
   },
   "source": [
    "## Upload Model Object to S3 Bucket"
   ]
  },
  {
   "cell_type": "code",
   "execution_count": 10,
   "metadata": {},
   "outputs": [
    {
     "name": "stderr",
     "output_type": "stream",
     "text": [
      "/Library/Frameworks/Python.framework/Versions/3.8/lib/python3.8/site-packages/sklearn/base.py:310: UserWarning: Trying to unpickle estimator DecisionTreeClassifier from version 0.22.1 when using version 0.24.1. This might lead to breaking code or invalid results. Use at your own risk.\n",
      "  warnings.warn(\n",
      "/Library/Frameworks/Python.framework/Versions/3.8/lib/python3.8/site-packages/sklearn/base.py:310: UserWarning: Trying to unpickle estimator RandomForestClassifier from version 0.22.1 when using version 0.24.1. This might lead to breaking code or invalid results. Use at your own risk.\n",
      "  warnings.warn(\n"
     ]
    }
   ],
   "source": [
    "# --- Step 1: Load a previously estimated model object in workspace:\n",
    "rf_dict = joblib.load(\"../Class4/rf.joblib\") \n",
    "\n",
    "# --- Step 2: Keep bucket the same"
   ]
  },
  {
   "cell_type": "code",
   "execution_count": 11,
   "metadata": {
    "slideshow": {
     "slide_type": "subslide"
    }
   },
   "outputs": [],
   "source": [
    "# --- Step 3: Specify name of file to be created on s3, to store this model object:\n",
    "key_name = \"rf_Fashion_MNIST_500_trees.joblib\"\n",
    "\n",
    "# --- Step 4: Upload file to bucket and file name specified:\n",
    "with s3_fs.open(f\"{bucket_name}/{key_name}\",\"wb\") as file:\n",
    "    joblib.dump(rf_dict[500], file) \n"
   ]
  },
  {
   "cell_type": "code",
   "execution_count": 12,
   "metadata": {},
   "outputs": [
    {
     "name": "stdout",
     "output_type": "stream",
     "text": [
      "airlines_data_2012_1000rows.csv\n",
      "rf_Fashion_MNIST_500_trees.joblib\n"
     ]
    }
   ],
   "source": [
    "# --- Step 5: Check that file got uploaded:\n",
    "for file in s3.Bucket(bucket_name).objects.all():\n",
    "    print(file.key)"
   ]
  },
  {
   "cell_type": "markdown",
   "metadata": {
    "slideshow": {
     "slide_type": "subslide"
    }
   },
   "source": [
    "On AWS, our bucket would look like this:"
   ]
  },
  {
   "cell_type": "markdown",
   "metadata": {},
   "source": [
    "![AWS_bucket](./images/bucket.png)"
   ]
  }
 ],
 "metadata": {
  "kernelspec": {
   "display_name": "env-stats404",
   "language": "python",
   "name": "env-stats404"
  },
  "language_info": {
   "codemirror_mode": {
    "name": "ipython",
    "version": 3
   },
   "file_extension": ".py",
   "mimetype": "text/x-python",
   "name": "python",
   "nbconvert_exporter": "python",
   "pygments_lexer": "ipython3",
   "version": "3.8.3"
  }
 },
 "nbformat": 4,
 "nbformat_minor": 4
}
